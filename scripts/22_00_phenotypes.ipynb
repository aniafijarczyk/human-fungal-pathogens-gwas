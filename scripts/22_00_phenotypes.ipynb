{
 "cells": [
  {
   "cell_type": "code",
   "execution_count": 1,
   "id": "74274b98",
   "metadata": {},
   "outputs": [],
   "source": [
    "import pandas as pd\n",
    "import numpy as np"
   ]
  },
  {
   "cell_type": "code",
   "execution_count": 2,
   "id": "69ce7ad2",
   "metadata": {},
   "outputs": [
    {
     "name": "stdout",
     "output_type": "stream",
     "text": [
      "(626, 1)\n"
     ]
    },
    {
     "data": {
      "text/html": [
       "<div>\n",
       "<style scoped>\n",
       "    .dataframe tbody tr th:only-of-type {\n",
       "        vertical-align: middle;\n",
       "    }\n",
       "\n",
       "    .dataframe tbody tr th {\n",
       "        vertical-align: top;\n",
       "    }\n",
       "\n",
       "    .dataframe thead th {\n",
       "        text-align: right;\n",
       "    }\n",
       "</style>\n",
       "<table border=\"1\" class=\"dataframe\">\n",
       "  <thead>\n",
       "    <tr style=\"text-align: right;\">\n",
       "      <th></th>\n",
       "      <th>0</th>\n",
       "    </tr>\n",
       "  </thead>\n",
       "  <tbody>\n",
       "    <tr>\n",
       "      <th>0</th>\n",
       "      <td>CALB0000</td>\n",
       "    </tr>\n",
       "    <tr>\n",
       "      <th>1</th>\n",
       "      <td>CALB0001</td>\n",
       "    </tr>\n",
       "    <tr>\n",
       "      <th>2</th>\n",
       "      <td>CALB0002</td>\n",
       "    </tr>\n",
       "    <tr>\n",
       "      <th>3</th>\n",
       "      <td>CALB0003</td>\n",
       "    </tr>\n",
       "    <tr>\n",
       "      <th>4</th>\n",
       "      <td>CALB0004</td>\n",
       "    </tr>\n",
       "  </tbody>\n",
       "</table>\n",
       "</div>"
      ],
      "text/plain": [
       "          0\n",
       "0  CALB0000\n",
       "1  CALB0001\n",
       "2  CALB0002\n",
       "3  CALB0003\n",
       "4  CALB0004"
      ]
     },
     "execution_count": 2,
     "metadata": {},
     "output_type": "execute_result"
    }
   ],
   "source": [
    "ids = pd.read_csv(\"../11_train_data/10_01_select_train_data.tsv\", sep=\"\\t\", header=None)\n",
    "print(ids.shape)\n",
    "ids.head()"
   ]
  },
  {
   "cell_type": "code",
   "execution_count": 3,
   "id": "877786f5-4709-414d-812a-82b370555f5b",
   "metadata": {},
   "outputs": [
    {
     "data": {
      "text/html": [
       "<div>\n",
       "<style scoped>\n",
       "    .dataframe tbody tr th:only-of-type {\n",
       "        vertical-align: middle;\n",
       "    }\n",
       "\n",
       "    .dataframe tbody tr th {\n",
       "        vertical-align: top;\n",
       "    }\n",
       "\n",
       "    .dataframe thead th {\n",
       "        text-align: right;\n",
       "    }\n",
       "</style>\n",
       "<table border=\"1\" class=\"dataframe\">\n",
       "  <thead>\n",
       "    <tr style=\"text-align: right;\">\n",
       "      <th></th>\n",
       "      <th>SampleID</th>\n",
       "      <th>Study</th>\n",
       "      <th>5-Fluorocytosine</th>\n",
       "      <th>Amphotericin B</th>\n",
       "      <th>Anidulafungin</th>\n",
       "      <th>Caspofungin</th>\n",
       "      <th>Fluconazole</th>\n",
       "      <th>Itraconazole</th>\n",
       "      <th>Micafungin</th>\n",
       "      <th>Posaconazole</th>\n",
       "      <th>Voriconazole</th>\n",
       "      <th>F_MISS</th>\n",
       "      <th>O(HET)</th>\n",
       "      <th>MEAN_DEPTH</th>\n",
       "      <th>rd</th>\n",
       "      <th>ref_10</th>\n",
       "      <th>K20</th>\n",
       "    </tr>\n",
       "  </thead>\n",
       "  <tbody>\n",
       "    <tr>\n",
       "      <th>0</th>\n",
       "      <td>1015031ECS</td>\n",
       "      <td>WGS300</td>\n",
       "      <td>-1.0</td>\n",
       "      <td>-1.0</td>\n",
       "      <td>-1.0</td>\n",
       "      <td>-1.0</td>\n",
       "      <td>-1.0</td>\n",
       "      <td>-1.0</td>\n",
       "      <td>-1.0</td>\n",
       "      <td>-1.0</td>\n",
       "      <td>-1.0</td>\n",
       "      <td>0.004743</td>\n",
       "      <td>0.072399</td>\n",
       "      <td>110.794</td>\n",
       "      <td>148.075</td>\n",
       "      <td>0.997368</td>\n",
       "      <td>0.0</td>\n",
       "    </tr>\n",
       "    <tr>\n",
       "      <th>1</th>\n",
       "      <td>111H952ECSsmall</td>\n",
       "      <td>WGS300</td>\n",
       "      <td>-1.0</td>\n",
       "      <td>-1.0</td>\n",
       "      <td>-1.0</td>\n",
       "      <td>-1.0</td>\n",
       "      <td>-1.0</td>\n",
       "      <td>-1.0</td>\n",
       "      <td>-1.0</td>\n",
       "      <td>-1.0</td>\n",
       "      <td>-1.0</td>\n",
       "      <td>0.023215</td>\n",
       "      <td>0.030956</td>\n",
       "      <td>134.142</td>\n",
       "      <td>192.730</td>\n",
       "      <td>0.990057</td>\n",
       "      <td>14.0</td>\n",
       "    </tr>\n",
       "    <tr>\n",
       "      <th>2</th>\n",
       "      <td>1124960HVS</td>\n",
       "      <td>WGS300</td>\n",
       "      <td>-1.0</td>\n",
       "      <td>-1.0</td>\n",
       "      <td>-1.0</td>\n",
       "      <td>-1.0</td>\n",
       "      <td>-1.0</td>\n",
       "      <td>-1.0</td>\n",
       "      <td>-1.0</td>\n",
       "      <td>-1.0</td>\n",
       "      <td>-1.0</td>\n",
       "      <td>0.003998</td>\n",
       "      <td>0.075521</td>\n",
       "      <td>118.884</td>\n",
       "      <td>160.287</td>\n",
       "      <td>0.997957</td>\n",
       "      <td>0.0</td>\n",
       "    </tr>\n",
       "    <tr>\n",
       "      <th>3</th>\n",
       "      <td>1144959ECS</td>\n",
       "      <td>WGS300</td>\n",
       "      <td>-1.0</td>\n",
       "      <td>-1.0</td>\n",
       "      <td>-1.0</td>\n",
       "      <td>-1.0</td>\n",
       "      <td>-1.0</td>\n",
       "      <td>-1.0</td>\n",
       "      <td>-1.0</td>\n",
       "      <td>-1.0</td>\n",
       "      <td>-1.0</td>\n",
       "      <td>0.024501</td>\n",
       "      <td>0.031187</td>\n",
       "      <td>111.953</td>\n",
       "      <td>153.307</td>\n",
       "      <td>0.989730</td>\n",
       "      <td>14.0</td>\n",
       "    </tr>\n",
       "    <tr>\n",
       "      <th>4</th>\n",
       "      <td>1154947HVS</td>\n",
       "      <td>WGS300</td>\n",
       "      <td>-1.0</td>\n",
       "      <td>-1.0</td>\n",
       "      <td>-1.0</td>\n",
       "      <td>-1.0</td>\n",
       "      <td>-1.0</td>\n",
       "      <td>-1.0</td>\n",
       "      <td>-1.0</td>\n",
       "      <td>-1.0</td>\n",
       "      <td>-1.0</td>\n",
       "      <td>0.005456</td>\n",
       "      <td>0.059057</td>\n",
       "      <td>133.147</td>\n",
       "      <td>181.811</td>\n",
       "      <td>0.997183</td>\n",
       "      <td>0.0</td>\n",
       "    </tr>\n",
       "  </tbody>\n",
       "</table>\n",
       "</div>"
      ],
      "text/plain": [
       "          SampleID   Study  5-Fluorocytosine  Amphotericin B  Anidulafungin  \\\n",
       "0       1015031ECS  WGS300              -1.0            -1.0           -1.0   \n",
       "1  111H952ECSsmall  WGS300              -1.0            -1.0           -1.0   \n",
       "2       1124960HVS  WGS300              -1.0            -1.0           -1.0   \n",
       "3       1144959ECS  WGS300              -1.0            -1.0           -1.0   \n",
       "4       1154947HVS  WGS300              -1.0            -1.0           -1.0   \n",
       "\n",
       "   Caspofungin  Fluconazole  Itraconazole  Micafungin  Posaconazole  \\\n",
       "0         -1.0         -1.0          -1.0        -1.0          -1.0   \n",
       "1         -1.0         -1.0          -1.0        -1.0          -1.0   \n",
       "2         -1.0         -1.0          -1.0        -1.0          -1.0   \n",
       "3         -1.0         -1.0          -1.0        -1.0          -1.0   \n",
       "4         -1.0         -1.0          -1.0        -1.0          -1.0   \n",
       "\n",
       "   Voriconazole    F_MISS    O(HET)  MEAN_DEPTH       rd    ref_10   K20  \n",
       "0          -1.0  0.004743  0.072399     110.794  148.075  0.997368   0.0  \n",
       "1          -1.0  0.023215  0.030956     134.142  192.730  0.990057  14.0  \n",
       "2          -1.0  0.003998  0.075521     118.884  160.287  0.997957   0.0  \n",
       "3          -1.0  0.024501  0.031187     111.953  153.307  0.989730  14.0  \n",
       "4          -1.0  0.005456  0.059057     133.147  181.811  0.997183   0.0  "
      ]
     },
     "execution_count": 3,
     "metadata": {},
     "output_type": "execute_result"
    }
   ],
   "source": [
    "dmeta = pd.read_csv(\"../../../17_phenotypes/06_combine_tables.tsv\", sep='\\t', header=0)\n",
    "dmeta.head()\n",
    "#dmeta['Posaconazole'].hist(bins=40)\n",
    "#dmeta[dmeta['Posaconazole']>0].sort_values(by='Posaconazole')[['Posaconazole']].value_counts()"
   ]
  },
  {
   "cell_type": "code",
   "execution_count": 18,
   "id": "21ba637c-9e1a-4c0b-a242-79b4d75707e0",
   "metadata": {},
   "outputs": [
    {
     "data": {
      "text/plain": [
       "0.019"
      ]
     },
     "execution_count": 18,
     "metadata": {},
     "output_type": "execute_result"
    }
   ],
   "source": [
    "drug = 'Fluconazole'\n",
    "dmeta.loc[dmeta[drug]!=-1, drug].min()"
   ]
  },
  {
   "cell_type": "code",
   "execution_count": 27,
   "id": "d0684888-3894-4185-a853-9529c87ec029",
   "metadata": {},
   "outputs": [
    {
     "data": {
      "text/plain": [
       "-5.717856771218502"
      ]
     },
     "execution_count": 27,
     "metadata": {},
     "output_type": "execute_result"
    }
   ],
   "source": [
    "np.log2(dmeta.loc[dmeta[drug]!=-1, drug].min())"
   ]
  },
  {
   "cell_type": "code",
   "execution_count": 26,
   "id": "88235c5d",
   "metadata": {},
   "outputs": [
    {
     "data": {
      "text/plain": [
       "<Axes: >"
      ]
     },
     "execution_count": 26,
     "metadata": {},
     "output_type": "execute_result"
    },
    {
     "data": {
      "image/png": "[encoded data removed]",
      "text/plain": [
       "<Figure size 640x480 with 1 Axes>"
      ]
     },
     "metadata": {},
     "output_type": "display_data"
    }
   ],
   "source": [
    "dmeta['Log'] = dmeta.apply(lambda x: -9 if x[drug] == -1 else np.log2(x[drug]), axis=1)\n",
    "dmeta['Log'].hist()"
   ]
  },
  {
   "cell_type": "code",
   "execution_count": 20,
   "id": "1e759e34",
   "metadata": {},
   "outputs": [
    {
     "data": {
      "text/html": [
       "<div>\n",
       "<style scoped>\n",
       "    .dataframe tbody tr th:only-of-type {\n",
       "        vertical-align: middle;\n",
       "    }\n",
       "\n",
       "    .dataframe tbody tr th {\n",
       "        vertical-align: top;\n",
       "    }\n",
       "\n",
       "    .dataframe thead th {\n",
       "        text-align: right;\n",
       "    }\n",
       "</style>\n",
       "<table border=\"1\" class=\"dataframe\">\n",
       "  <thead>\n",
       "    <tr style=\"text-align: right;\">\n",
       "      <th></th>\n",
       "      <th>SampleID</th>\n",
       "      <th>Log</th>\n",
       "    </tr>\n",
       "  </thead>\n",
       "  <tbody>\n",
       "    <tr>\n",
       "      <th>0</th>\n",
       "      <td>1015031ECS</td>\n",
       "      <td>-9.0</td>\n",
       "    </tr>\n",
       "    <tr>\n",
       "      <th>1</th>\n",
       "      <td>111H952ECSsmall</td>\n",
       "      <td>-9.0</td>\n",
       "    </tr>\n",
       "    <tr>\n",
       "      <th>2</th>\n",
       "      <td>1124960HVS</td>\n",
       "      <td>-9.0</td>\n",
       "    </tr>\n",
       "    <tr>\n",
       "      <th>3</th>\n",
       "      <td>1144959ECS</td>\n",
       "      <td>-9.0</td>\n",
       "    </tr>\n",
       "    <tr>\n",
       "      <th>4</th>\n",
       "      <td>1154947HVS</td>\n",
       "      <td>-9.0</td>\n",
       "    </tr>\n",
       "    <tr>\n",
       "      <th>...</th>\n",
       "      <td>...</td>\n",
       "      <td>...</td>\n",
       "    </tr>\n",
       "    <tr>\n",
       "      <th>1035</th>\n",
       "      <td>MYC-19-11</td>\n",
       "      <td>-9.0</td>\n",
       "    </tr>\n",
       "    <tr>\n",
       "      <th>1036</th>\n",
       "      <td>MYC-19-2</td>\n",
       "      <td>1.0</td>\n",
       "    </tr>\n",
       "    <tr>\n",
       "      <th>1037</th>\n",
       "      <td>MYC-19-28</td>\n",
       "      <td>-2.0</td>\n",
       "    </tr>\n",
       "    <tr>\n",
       "      <th>1038</th>\n",
       "      <td>MYC-19-9</td>\n",
       "      <td>-9.0</td>\n",
       "    </tr>\n",
       "    <tr>\n",
       "      <th>1039</th>\n",
       "      <td>SC5314</td>\n",
       "      <td>-9.0</td>\n",
       "    </tr>\n",
       "  </tbody>\n",
       "</table>\n",
       "<p>1040 rows × 2 columns</p>\n",
       "</div>"
      ],
      "text/plain": [
       "             SampleID  Log\n",
       "0          1015031ECS -9.0\n",
       "1     111H952ECSsmall -9.0\n",
       "2          1124960HVS -9.0\n",
       "3          1144959ECS -9.0\n",
       "4          1154947HVS -9.0\n",
       "...               ...  ...\n",
       "1035        MYC-19-11 -9.0\n",
       "1036         MYC-19-2  1.0\n",
       "1037        MYC-19-28 -2.0\n",
       "1038         MYC-19-9 -9.0\n",
       "1039           SC5314 -9.0\n",
       "\n",
       "[1040 rows x 2 columns]"
      ]
     },
     "execution_count": 20,
     "metadata": {},
     "output_type": "execute_result"
    }
   ],
   "source": [
    "phens = dmeta[['SampleID','Log']].reset_index(drop=True)\n",
    "phens"
   ]
  },
  {
   "cell_type": "code",
   "execution_count": 21,
   "id": "b34a22db-0e1b-4256-a27b-1a2ec66bf9ef",
   "metadata": {},
   "outputs": [
    {
     "data": {
      "text/plain": [
       "Log\n",
       " 8.027906      1\n",
       " 8.016808      1\n",
       " 8.011227      1\n",
       " 8.005625      1\n",
       "-4.411195      1\n",
       "-5.717857      1\n",
       " 1.584963      1\n",
       "-5.442222      1\n",
       " 0.925999      1\n",
       " 8.022368      1\n",
       " 4.584963      2\n",
       " 0.584963      2\n",
       "-3.965784      2\n",
       " 6.584963      5\n",
       "-0.415037      6\n",
       "-3.411195      7\n",
       " 6.000000     10\n",
       " 7.000000     11\n",
       " 1.000000     14\n",
       " 5.000000     14\n",
       "-3.000000     16\n",
       " 3.000000     16\n",
       " 4.000000     17\n",
       "-1.395929     23\n",
       " 2.000000     27\n",
       " 8.000000     27\n",
       "-2.395929     29\n",
       "-3.058894     38\n",
       " 0.000000     56\n",
       "-1.000000    194\n",
       "-2.000000    227\n",
       "-9.000000    287\n",
       "Name: count, dtype: int64"
      ]
     },
     "execution_count": 21,
     "metadata": {},
     "output_type": "execute_result"
    }
   ],
   "source": [
    "phens['Log'].value_counts().sort_values()"
   ]
  },
  {
   "cell_type": "code",
   "execution_count": 22,
   "id": "197a7162",
   "metadata": {},
   "outputs": [
    {
     "name": "stdout",
     "output_type": "stream",
     "text": [
      "(626, 3)\n"
     ]
    },
    {
     "data": {
      "text/plain": [
       "Log\n",
       "-2.000000    196\n",
       "-1.000000    163\n",
       " 0.000000     50\n",
       "-2.395929     29\n",
       " 2.000000     27\n",
       "-1.395929     23\n",
       " 8.000000     21\n",
       "-3.058894     20\n",
       "-3.000000     16\n",
       " 1.000000     13\n",
       " 5.000000     10\n",
       " 4.000000      8\n",
       "-3.411195      7\n",
       "-9.000000      6\n",
       " 6.000000      5\n",
       " 6.584963      5\n",
       "-0.415037      5\n",
       " 7.000000      4\n",
       "-3.965784      2\n",
       " 0.584963      2\n",
       " 4.584963      2\n",
       " 3.000000      2\n",
       " 0.925999      1\n",
       " 1.584963      1\n",
       "-5.442222      1\n",
       "-5.717857      1\n",
       "-4.411195      1\n",
       " 8.005625      1\n",
       " 8.011227      1\n",
       " 8.016808      1\n",
       " 8.022368      1\n",
       " 8.027906      1\n",
       "Name: count, dtype: int64"
      ]
     },
     "execution_count": 22,
     "metadata": {},
     "output_type": "execute_result"
    }
   ],
   "source": [
    "dm = pd.merge(ids, phens, left_on = 0, right_on = \"SampleID\", how = 'left')\n",
    "print(dm.shape)\n",
    "dm['Log'].value_counts()\n",
    "#dm = dm.drop(columns=['SampleID'])\n",
    "#dm.head()"
   ]
  },
  {
   "cell_type": "code",
   "execution_count": 23,
   "id": "77d24e36",
   "metadata": {},
   "outputs": [],
   "source": [
    "dm.to_csv(\"22_00_phenotypes.txt\", sep=\"\\t\", header=False, index=False)"
   ]
  },
  {
   "cell_type": "code",
   "execution_count": null,
   "id": "68a1e92a",
   "metadata": {},
   "outputs": [],
   "source": []
  },
  {
   "cell_type": "code",
   "execution_count": 51,
   "id": "c4f509a7",
   "metadata": {},
   "outputs": [],
   "source": [
    "#print(dm.shape)\n",
    "#dm['Posaconazole_bin'].value_counts()"
   ]
  },
  {
   "cell_type": "code",
   "execution_count": null,
   "id": "96041fda-61eb-424d-b1e2-84e17f0e8a67",
   "metadata": {},
   "outputs": [],
   "source": []
  },
  {
   "cell_type": "code",
   "execution_count": null,
   "id": "a8f2fce3-a824-46c4-b3c5-3eefa5a149a7",
   "metadata": {},
   "outputs": [],
   "source": []
  },
  {
   "cell_type": "code",
   "execution_count": null,
   "id": "14203ee9-0be1-4ae1-baa1-fb9064a9f270",
   "metadata": {},
   "outputs": [],
   "source": []
  }
 ],
 "metadata": {
  "kernelspec": {
   "display_name": "mbio",
   "language": "python",
   "name": "mbio"
  },
  "language_info": {
   "codemirror_mode": {
    "name": "ipython",
    "version": 3
   },
   "file_extension": ".py",
   "mimetype": "text/x-python",
   "name": "python",
   "nbconvert_exporter": "python",
   "pygments_lexer": "ipython3",
   "version": "3.12.7"
  }
 },
 "nbformat": 4,
 "nbformat_minor": 5
}
